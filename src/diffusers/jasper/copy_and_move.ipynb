{
 "cells": [
  {
   "cell_type": "code",
   "execution_count": 3,
   "metadata": {},
   "outputs": [
    {
     "name": "stdout",
     "output_type": "stream",
     "text": [
      "Updated JSON data saved to copied_files/updated_data.json\n"
     ]
    }
   ],
   "source": [
    "import os\n",
    "import json\n",
    "import shutil\n",
    "from pathlib import Path\n",
    "import builtins\n",
    "\n",
    "# Load your JSON data here, it might come from a file or directly as a string\n",
    "file_path = \"./test_data_set.json\"\n",
    "with open(file_path, \"r\") as json_file:\n",
    "    # Load the JSON data into a Python dictionary\n",
    "    json_data = json.load(json_file)\n",
    "\n",
    "destination_root = Path(\"./copied_files\")\n",
    "\n",
    "# Function to handle copying and path updating\n",
    "def copy_files_update_path(file_paths, root_dest):\n",
    "    updated_paths = []\n",
    "    for file_path in file_paths:\n",
    "        dest_path = root_dest / Path(file_path).name\n",
    "        shutil.copy(file_path, dest_path)\n",
    "        updated_paths.append(str(dest_path))\n",
    "    return updated_paths\n",
    "# Specify the root destination directory where files will be copied\n",
    "\n",
    "def copy_and_update_paths(json_data, destination_root):\n",
    "    # Ensure the root destination exists\n",
    "    destination_root.mkdir(parents=True, exist_ok=True)\n",
    "    \n",
    "\n",
    "    # Iterate through the JSON structure\n",
    "    for key in json_data:\n",
    "        if isinstance(json_data[key], list):\n",
    "            if key == \"caption\": \n",
    "                continue\n",
    "            for i, item in enumerate(json_data[key]):\n",
    "                if isinstance(item, list):\n",
    "                    # Copy files and update paths for nested lists\n",
    "                    json_data[key][i] = copy_files_update_path(item, destination_root / key)\n",
    "                else:\n",
    "                    # Handle non-list items if necessary\n",
    "                    pass\n",
    "        else:\n",
    "            # Handle non-list top-level items if necessary\n",
    "            pass\n",
    "\n",
    "    # Return the updated JSON data\n",
    "    return json_data\n",
    "\n",
    "# Process the JSON data\n",
    "updated_json_data = copy_and_update_paths(json_data, destination_root)\n",
    "\n",
    "# Save the updated JSON data to a file\n",
    "updated_json_path = destination_root / \"updated_data.json\"\n",
    "with open(updated_json_path, 'w') as json_file:\n",
    "    json.dump(updated_json_data, json_file, indent=4)\n",
    "\n",
    "print(f\"Updated JSON data saved to {updated_json_path}\")\n"
   ]
  }
 ],
 "metadata": {
  "kernelspec": {
   "display_name": "wsl_diffusers",
   "language": "python",
   "name": "python3"
  },
  "language_info": {
   "codemirror_mode": {
    "name": "ipython",
    "version": 3
   },
   "file_extension": ".py",
   "mimetype": "text/x-python",
   "name": "python",
   "nbconvert_exporter": "python",
   "pygments_lexer": "ipython3",
   "version": "3.9.18"
  }
 },
 "nbformat": 4,
 "nbformat_minor": 2
}
